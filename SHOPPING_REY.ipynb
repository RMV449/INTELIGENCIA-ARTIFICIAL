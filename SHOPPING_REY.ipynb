{
  "nbformat": 4,
  "nbformat_minor": 0,
  "metadata": {
    "colab": {
      "provenance": [],
      "include_colab_link": true
    },
    "kernelspec": {
      "name": "python3",
      "display_name": "Python 3"
    },
    "language_info": {
      "name": "python"
    }
  },
  "cells": [
    {
      "cell_type": "markdown",
      "metadata": {
        "id": "view-in-github",
        "colab_type": "text"
      },
      "source": [
        "<a href=\"https://colab.research.google.com/github/RMV449/INTELIGENCIA-ARTIFICIAL/blob/main/SHOPPING_REY.ipynb\" target=\"_parent\"><img src=\"https://colab.research.google.com/assets/colab-badge.svg\" alt=\"Open In Colab\"/></a>"
      ]
    },
    {
      "cell_type": "markdown",
      "source": [
        "# **INTELIGENCIA ARTIFICIAL **\n",
        "---\n",
        "# **MONZÓN VENTURA REY MARIO**\n",
        "---\n",
        "---\n",
        "#Práctica de Laboratorio 2:SHOPPING\n",
        "#Descripción del Problema\n",
        "\n",
        "Cuando los usuarios compran online, no todos acabarán comprando algo. De\n",
        "hecho, la mayoría de los visitantes de un sitio web de compras en línea\n",
        "probablemente no terminen realizando una compra durante esa sesión de\n",
        "navegación web. Sin embargo, podría ser útil que un sitio web de compras\n",
        "pueda predecir si un usuario tiene la intención de realizar una compra o no: tal\n",
        "vez mostrar contenido diferente al usuario, como mostrarle una oferta de\n",
        "descuento si el sitio web cree que el usuario no planea completar la compra.\n",
        "¿Cómo podría un sitio web determinar la intención de compra de un\n",
        "usuario? Ahí es donde entrará en juego el aprendizaje automático (Machine\n",
        "Learning)."
      ],
      "metadata": {
        "id": "mA9O31KlaGsy"
      }
    },
    {
      "cell_type": "markdown",
      "source": [
        "#Objetivo\n",
        "Construir un clasificador del vecino más cercano (k- nearest-neighbor\n",
        "classifier) para resolver el problema shopping descrito.\n",
        "Dada la información sobre un usuario (cuántas páginas ha visitado, si está\n",
        "comprando en un fin de semana, qué navegador web está usando, etc.), el\n",
        "clasificador predecirá si el usuario realizará una compra o no."
      ],
      "metadata": {
        "id": "QCCIhz48OqHY"
      }
    },
    {
      "cell_type": "markdown",
      "source": [],
      "metadata": {
        "id": "Wt6ZNG6YNhME"
      }
    },
    {
      "cell_type": "code",
      "execution_count": null,
      "metadata": {
        "id": "O_ape53qaBXF"
      },
      "outputs": [],
      "source": [
        "import pandas as pd\n",
        "from sklearn.model_selection import train_test_split\n",
        "from sklearn.neighbors import KNeighborsClassifier\n",
        "from sklearn.metrics import accuracy_score, classification_report"
      ]
    },
    {
      "cell_type": "markdown",
      "source": [
        "## Dataset"
      ],
      "metadata": {
        "id": "oZzRfLsqa7sv"
      }
    },
    {
      "cell_type": "markdown",
      "source": [
        "Se trabajará con un dataset de un sitio web de compras de aproximadamente\n",
        "12.000 sesiones de usuarios representadas como una fila para cada sesión de\n",
        "usuario."
      ],
      "metadata": {
        "id": "0B4dZgPVO3oi"
      }
    },
    {
      "cell_type": "code",
      "source": [
        "csv_file = pd.read_csv(\"shopping.csv\")\n",
        "data = pd.read_csv('banknotes.csv')\n",
        "# Separar las etiquetas (Revenue) de la evidencia\n",
        "labels = csv_file['Revenue']\n",
        "evidence = csv_file.drop(columns=['Revenue'])\n",
        "\n",
        "# Convertir las variables categóricas a variables numéricas\n",
        "evidence = pd.get_dummies(evidence)\n",
        "\n",
        "# Verificar las primeras filas de etiquetas y evidencia\n",
        "print(labels[:5])\n",
        "print(evidence.head())"
      ],
      "metadata": {
        "id": "C_iisCxtaFej",
        "colab": {
          "base_uri": "https://localhost:8080/"
        },
        "outputId": "d0166ea3-c8a3-40ae-b61f-e0ebc2fae699"
      },
      "execution_count": null,
      "outputs": [
        {
          "output_type": "stream",
          "name": "stdout",
          "text": [
            "0    False\n",
            "1    False\n",
            "2    False\n",
            "3    False\n",
            "4    False\n",
            "Name: Revenue, dtype: bool\n",
            "   Administrative  Administrative_Duration  Informational  \\\n",
            "0               0                      0.0              0   \n",
            "1               0                      0.0              0   \n",
            "2               0                      0.0              0   \n",
            "3               0                      0.0              0   \n",
            "4               0                      0.0              0   \n",
            "\n",
            "   Informational_Duration  ProductRelated  ProductRelated_Duration  \\\n",
            "0                     0.0               1                 0.000000   \n",
            "1                     0.0               2                64.000000   \n",
            "2                     0.0               1                 0.000000   \n",
            "3                     0.0               2                 2.666667   \n",
            "4                     0.0              10               627.500000   \n",
            "\n",
            "   BounceRates  ExitRates  PageValues  SpecialDay  ...  Month_Jul  Month_June  \\\n",
            "0         0.20       0.20         0.0         0.0  ...      False       False   \n",
            "1         0.00       0.10         0.0         0.0  ...      False       False   \n",
            "2         0.20       0.20         0.0         0.0  ...      False       False   \n",
            "3         0.05       0.14         0.0         0.0  ...      False       False   \n",
            "4         0.02       0.05         0.0         0.0  ...      False       False   \n",
            "\n",
            "   Month_Mar  Month_May  Month_Nov  Month_Oct  Month_Sep  \\\n",
            "0      False      False      False      False      False   \n",
            "1      False      False      False      False      False   \n",
            "2      False      False      False      False      False   \n",
            "3      False      False      False      False      False   \n",
            "4      False      False      False      False      False   \n",
            "\n",
            "   VisitorType_New_Visitor  VisitorType_Other  VisitorType_Returning_Visitor  \n",
            "0                    False              False                           True  \n",
            "1                    False              False                           True  \n",
            "2                    False              False                           True  \n",
            "3                    False              False                           True  \n",
            "4                    False              False                           True  \n",
            "\n",
            "[5 rows x 28 columns]\n"
          ]
        }
      ]
    },
    {
      "cell_type": "code",
      "source": [
        "print(data)"
      ],
      "metadata": {
        "colab": {
          "base_uri": "https://localhost:8080/"
        },
        "id": "Fm97HsLeHJrk",
        "outputId": "29cea630-a32e-4a8c-bd1f-9bf70e595610"
      },
      "execution_count": null,
      "outputs": [
        {
          "output_type": "stream",
          "name": "stdout",
          "text": [
            "      variance  skewness   curtosis  entropy  class\n",
            "0    -0.895690   3.00250  -3.606700 -3.44570      1\n",
            "1     3.476900  -0.15314   2.530000  2.44950      0\n",
            "2     3.910200   6.06500  -2.453400 -0.68234      0\n",
            "3     0.607310   3.95440  -4.772000 -4.48530      1\n",
            "4     2.371800   7.49080   0.015989 -1.74140      0\n",
            "...        ...       ...        ...      ...    ...\n",
            "1367 -2.967200 -13.28690  13.472700 -2.62710      1\n",
            "1368  0.318030  -0.99326   1.094700  0.88619      1\n",
            "1369 -0.025314  -0.17383  -0.113390  1.21980      1\n",
            "1370 -2.234000  -7.03140   7.493600  0.61334      1\n",
            "1371  4.728500   2.10650  -0.283050  1.56250      0\n",
            "\n",
            "[1372 rows x 5 columns]\n"
          ]
        }
      ]
    },
    {
      "cell_type": "markdown",
      "source": [
        "## Split training and  testing"
      ],
      "metadata": {
        "id": "NV12mFDTwfKa"
      }
    },
    {
      "cell_type": "code",
      "source": [
        "X_training, X_testing, y_training, y_testing = train_test_split(\n",
        "    evidence, labels, test_size=0.4\n",
        ")"
      ],
      "metadata": {
        "id": "5wpTpk-Mwlyh"
      },
      "execution_count": null,
      "outputs": []
    },
    {
      "cell_type": "markdown",
      "source": [
        "## Modelo"
      ],
      "metadata": {
        "id": "LfUkXHsewrpk"
      }
    },
    {
      "cell_type": "markdown",
      "source": [
        "Si tenemos un conjunto de datos de prueba, podríamos ejecutar nuestro\n",
        "clasificador con los datos y calcular qué proporción del tiempo clasificamos\n",
        "correctamente la intención del usuario. Esto nos daría un único porcentaje de\n",
        "precisión. Pero esa cifra podría ser un poco engañosa. Imagínese, por ejemplo,\n",
        "si alrededor del 15% de todos los usuarios terminan realizando una compra.\n",
        "Un clasificador que siempre predijo que el usuario no realizaría una compra,\n",
        "entonces, lo mediríamos con un 85% de precisión: los únicos usuarios que\n",
        "clasifica incorrectamente son el 15% de los usuarios que sí realizan una\n",
        "compra. Y aunque una precisión del 85% suena bastante bien, no parece un\n",
        "clasificador muy útil."
      ],
      "metadata": {
        "id": "Ovf5XMqcOeaI"
      }
    },
    {
      "cell_type": "code",
      "source": [
        "model = KNeighborsClassifier(n_neighbors=1)\n",
        "model.fit(X_training, y_training)\n",
        "\n",
        "# Evaluación del modelo\n",
        "accuracy = model.score(X_testing, y_testing)\n",
        "print(f\"Accuracy: {accuracy * 100:.2f}\")"
      ],
      "metadata": {
        "colab": {
          "base_uri": "https://localhost:8080/"
        },
        "id": "35Rn0NYfw3oM",
        "outputId": "f3b01ebe-fba5-485b-a833-db72868d8040"
      },
      "execution_count": null,
      "outputs": [
        {
          "output_type": "stream",
          "name": "stdout",
          "text": [
            "Accuracy: 83.39\n"
          ]
        }
      ]
    },
    {
      "cell_type": "markdown",
      "source": [
        "## Predicción"
      ],
      "metadata": {
        "id": "T3pDorQhxBgF"
      }
    },
    {
      "cell_type": "code",
      "source": [
        "predictions = model.predict(X_testing)"
      ],
      "metadata": {
        "id": "vN8Lc0qbxDfq"
      },
      "execution_count": null,
      "outputs": []
    },
    {
      "cell_type": "markdown",
      "source": [
        "## Evaluación"
      ],
      "metadata": {
        "id": "GsAMGA3dxHHh"
      }
    },
    {
      "cell_type": "code",
      "source": [
        "correct = (y_testing == predictions).sum()\n",
        "incorrect = (y_testing != predictions).sum()\n",
        "total = len(predictions)\n",
        "\n",
        "print(f\"Resultados del modelo {type(model).__name__}\")\n",
        "print(f\"Correctos: {correct}\")\n",
        "print(f\"Incorrectos: {incorrect}\")\n",
        "print(f\"Accuracy: {100 * correct / total:.2f}%\")"
      ],
      "metadata": {
        "colab": {
          "base_uri": "https://localhost:8080/"
        },
        "id": "6zIrT4PawyOf",
        "outputId": "87d88315-b636-44b9-8e62-9dc470051be5"
      },
      "execution_count": null,
      "outputs": [
        {
          "output_type": "stream",
          "name": "stdout",
          "text": [
            "Resultados del modelo KNeighborsClassifier\n",
            "Correctos: 4113\n",
            "Incorrectos: 819\n",
            "Accuracy: 83.39%\n"
          ]
        }
      ]
    },
    {
      "cell_type": "markdown",
      "source": [
        "#Conclusión"
      ],
      "metadata": {
        "id": "cjmOdWBsOKoE"
      }
    },
    {
      "cell_type": "markdown",
      "source": [
        "El clasificador k-NN implementado en esta práctica ha mostrado ser eficaz para predecir la intención de compra de los usuarios en un sitio de comercio electrónico, logrando una precisión del 83.39%. Este porcentaje indica que el modelo puede ser valioso para detectar usuarios con alta probabilidad de realizar una compra, lo que podría ser utilizado por las plataformas para personalizar la experiencia del cliente y potencialmente aumentar la tasa de conversión a través de ofertas específicas y contenido adaptado. No obstante, es crucial tener en cuenta la sensibilidad y especificidad del modelo para una evaluación más integral de su desempeño, ya que una alta precisión no siempre garantiza un adecuado balance entre la identificación de compradores y no compradores."
      ],
      "metadata": {
        "id": "5PWJ-PI6PKOO"
      }
    },
    {
      "cell_type": "markdown",
      "source": [
        "#Anexos\n",
        "\n",
        "https://colab.research.google.com/drive/13R9y4M0bEnZ2Dt-t4DjdwdAQC0W6yz3J?usp=sharing\n",
        "\n",
        "https://colab.research.google.com/gist/RMV449/68933e1b30642ad9f27070e61754ef93/shopping_rey.ipynb\n",
        "\n"
      ],
      "metadata": {
        "id": "Iw_fDanUOVfZ"
      }
    }
  ]
}